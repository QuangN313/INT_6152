{
 "cells": [
  {
   "cell_type": "code",
   "execution_count": 4,
   "metadata": {},
   "outputs": [],
   "source": [
    "import numpy as np\n",
    "import pandas as pd\n",
    "from scipy import stats, spatial\n",
    "import gensim\n",
    "import seaborn as sns\n",
    "from sklearn.linear_model import LogisticRegression\n",
    "from sklearn.neighbors import NearestNeighbors\n",
    "from sklearn.metrics import classification_report, f1_score, precision_score, recall_score, confusion_matrix\n",
    "from sklearn.svm import SVC\n",
    "from sklearn.neural_network import MLPClassifier"
   ]
  },
  {
   "cell_type": "markdown",
   "metadata": {},
   "source": [
    "# 1. Cosine similarity"
   ]
  },
  {
   "cell_type": "markdown",
   "metadata": {},
   "source": [
    "## 1.1 Load & Preprocessing Data"
   ]
  },
  {
   "cell_type": "code",
   "execution_count": 5,
   "metadata": {},
   "outputs": [],
   "source": [
    "emb_df = pd.read_csv('../../ex1/Word-Similarity/word2vec/W2V_150.txt', error_bad_lines=False, skiprows=2, names=list(range(151)), sep=' ',skipinitialspace= True, na_filter=False).drop(columns=[150])\n",
    "visim_df = pd.read_csv('../../ex1/Word-Similarity/datasets/ViSim-400/Visim-400.txt', sep='\\t')"
   ]
  },
  {
   "cell_type": "code",
   "execution_count": 6,
   "metadata": {},
   "outputs": [
    {
     "data": {
      "text/html": [
       "<div>\n",
       "<style scoped>\n",
       "    .dataframe tbody tr th:only-of-type {\n",
       "        vertical-align: middle;\n",
       "    }\n",
       "\n",
       "    .dataframe tbody tr th {\n",
       "        vertical-align: top;\n",
       "    }\n",
       "\n",
       "    .dataframe thead th {\n",
       "        text-align: right;\n",
       "    }\n",
       "</style>\n",
       "<table border=\"1\" class=\"dataframe\">\n",
       "  <thead>\n",
       "    <tr style=\"text-align: right;\">\n",
       "      <th></th>\n",
       "      <th>0</th>\n",
       "      <th>1</th>\n",
       "      <th>2</th>\n",
       "      <th>3</th>\n",
       "      <th>4</th>\n",
       "      <th>5</th>\n",
       "      <th>6</th>\n",
       "      <th>7</th>\n",
       "      <th>8</th>\n",
       "      <th>9</th>\n",
       "      <th>...</th>\n",
       "      <th>140</th>\n",
       "      <th>141</th>\n",
       "      <th>142</th>\n",
       "      <th>143</th>\n",
       "      <th>144</th>\n",
       "      <th>145</th>\n",
       "      <th>146</th>\n",
       "      <th>147</th>\n",
       "      <th>148</th>\n",
       "      <th>149</th>\n",
       "    </tr>\n",
       "  </thead>\n",
       "  <tbody>\n",
       "    <tr>\n",
       "      <th>những</th>\n",
       "      <td>0.290104</td>\n",
       "      <td>-0.289879</td>\n",
       "      <td>0.416935</td>\n",
       "      <td>1.936890</td>\n",
       "      <td>0.444036</td>\n",
       "      <td>1.187533</td>\n",
       "      <td>-1.278718</td>\n",
       "      <td>-0.335724</td>\n",
       "      <td>-1.059525</td>\n",
       "      <td>-0.405180</td>\n",
       "      <td>...</td>\n",
       "      <td>-0.467682</td>\n",
       "      <td>-0.714711</td>\n",
       "      <td>1.415871</td>\n",
       "      <td>-0.791346</td>\n",
       "      <td>-0.186179</td>\n",
       "      <td>-0.203722</td>\n",
       "      <td>-0.546900</td>\n",
       "      <td>0.511325</td>\n",
       "      <td>-0.597274</td>\n",
       "      <td>-1.138472</td>\n",
       "    </tr>\n",
       "    <tr>\n",
       "      <th>tiết_lộ</th>\n",
       "      <td>-1.308045</td>\n",
       "      <td>0.950666</td>\n",
       "      <td>2.340200</td>\n",
       "      <td>-0.433416</td>\n",
       "      <td>-0.244250</td>\n",
       "      <td>1.175481</td>\n",
       "      <td>-0.393907</td>\n",
       "      <td>-2.157170</td>\n",
       "      <td>-1.742790</td>\n",
       "      <td>-1.584158</td>\n",
       "      <td>...</td>\n",
       "      <td>-2.070473</td>\n",
       "      <td>-0.807718</td>\n",
       "      <td>-0.945042</td>\n",
       "      <td>1.240186</td>\n",
       "      <td>-1.445371</td>\n",
       "      <td>1.118764</td>\n",
       "      <td>0.716285</td>\n",
       "      <td>-0.716736</td>\n",
       "      <td>-1.000471</td>\n",
       "      <td>-0.234190</td>\n",
       "    </tr>\n",
       "    <tr>\n",
       "      <th>thú_vị</th>\n",
       "      <td>2.561394</td>\n",
       "      <td>2.765394</td>\n",
       "      <td>-2.260592</td>\n",
       "      <td>1.895223</td>\n",
       "      <td>1.024710</td>\n",
       "      <td>0.682792</td>\n",
       "      <td>-0.699010</td>\n",
       "      <td>-1.019593</td>\n",
       "      <td>-0.464209</td>\n",
       "      <td>-1.301042</td>\n",
       "      <td>...</td>\n",
       "      <td>0.321418</td>\n",
       "      <td>0.312818</td>\n",
       "      <td>-1.626791</td>\n",
       "      <td>1.693114</td>\n",
       "      <td>-0.682941</td>\n",
       "      <td>-1.695815</td>\n",
       "      <td>2.805975</td>\n",
       "      <td>0.903519</td>\n",
       "      <td>-0.417958</td>\n",
       "      <td>-0.647090</td>\n",
       "    </tr>\n",
       "    <tr>\n",
       "      <th>về</th>\n",
       "      <td>-1.414575</td>\n",
       "      <td>-0.593215</td>\n",
       "      <td>-1.403980</td>\n",
       "      <td>-1.300985</td>\n",
       "      <td>0.946746</td>\n",
       "      <td>0.159904</td>\n",
       "      <td>-0.680019</td>\n",
       "      <td>0.472107</td>\n",
       "      <td>0.164649</td>\n",
       "      <td>-1.172244</td>\n",
       "      <td>...</td>\n",
       "      <td>-0.453686</td>\n",
       "      <td>0.737019</td>\n",
       "      <td>-0.988726</td>\n",
       "      <td>-1.056952</td>\n",
       "      <td>-0.935414</td>\n",
       "      <td>0.333762</td>\n",
       "      <td>0.363725</td>\n",
       "      <td>-0.328541</td>\n",
       "      <td>0.621737</td>\n",
       "      <td>0.719807</td>\n",
       "    </tr>\n",
       "    <tr>\n",
       "      <th>wallpaper</th>\n",
       "      <td>0.255411</td>\n",
       "      <td>-1.367197</td>\n",
       "      <td>-0.604347</td>\n",
       "      <td>0.921952</td>\n",
       "      <td>0.158452</td>\n",
       "      <td>0.129826</td>\n",
       "      <td>0.222971</td>\n",
       "      <td>-0.025875</td>\n",
       "      <td>-0.031520</td>\n",
       "      <td>-0.412994</td>\n",
       "      <td>...</td>\n",
       "      <td>-0.439197</td>\n",
       "      <td>1.027919</td>\n",
       "      <td>-0.112004</td>\n",
       "      <td>-1.546653</td>\n",
       "      <td>2.025361</td>\n",
       "      <td>-0.554233</td>\n",
       "      <td>0.257585</td>\n",
       "      <td>-0.034442</td>\n",
       "      <td>-1.357533</td>\n",
       "      <td>0.171804</td>\n",
       "    </tr>\n",
       "  </tbody>\n",
       "</table>\n",
       "<p>5 rows × 150 columns</p>\n",
       "</div>"
      ],
      "text/plain": [
       "                0         1         2         3         4         5    \\\n",
       "những      0.290104 -0.289879  0.416935  1.936890  0.444036  1.187533   \n",
       "tiết_lộ   -1.308045  0.950666  2.340200 -0.433416 -0.244250  1.175481   \n",
       "thú_vị     2.561394  2.765394 -2.260592  1.895223  1.024710  0.682792   \n",
       "về        -1.414575 -0.593215 -1.403980 -1.300985  0.946746  0.159904   \n",
       "wallpaper  0.255411 -1.367197 -0.604347  0.921952  0.158452  0.129826   \n",
       "\n",
       "                6         7         8         9    ...       140       141  \\\n",
       "những     -1.278718 -0.335724 -1.059525 -0.405180  ... -0.467682 -0.714711   \n",
       "tiết_lộ   -0.393907 -2.157170 -1.742790 -1.584158  ... -2.070473 -0.807718   \n",
       "thú_vị    -0.699010 -1.019593 -0.464209 -1.301042  ...  0.321418  0.312818   \n",
       "về        -0.680019  0.472107  0.164649 -1.172244  ... -0.453686  0.737019   \n",
       "wallpaper  0.222971 -0.025875 -0.031520 -0.412994  ... -0.439197  1.027919   \n",
       "\n",
       "                142       143       144       145       146       147  \\\n",
       "những      1.415871 -0.791346 -0.186179 -0.203722 -0.546900  0.511325   \n",
       "tiết_lộ   -0.945042  1.240186 -1.445371  1.118764  0.716285 -0.716736   \n",
       "thú_vị    -1.626791  1.693114 -0.682941 -1.695815  2.805975  0.903519   \n",
       "về        -0.988726 -1.056952 -0.935414  0.333762  0.363725 -0.328541   \n",
       "wallpaper -0.112004 -1.546653  2.025361 -0.554233  0.257585 -0.034442   \n",
       "\n",
       "                148       149  \n",
       "những     -0.597274 -1.138472  \n",
       "tiết_lộ   -1.000471 -0.234190  \n",
       "thú_vị    -0.417958 -0.647090  \n",
       "về         0.621737  0.719807  \n",
       "wallpaper -1.357533  0.171804  \n",
       "\n",
       "[5 rows x 150 columns]"
      ]
     },
     "execution_count": 6,
     "metadata": {},
     "output_type": "execute_result"
    }
   ],
   "source": [
    "emb_df.head(5)"
   ]
  },
  {
   "cell_type": "code",
   "execution_count": 7,
   "metadata": {},
   "outputs": [
    {
     "data": {
      "text/html": [
       "<div>\n",
       "<style scoped>\n",
       "    .dataframe tbody tr th:only-of-type {\n",
       "        vertical-align: middle;\n",
       "    }\n",
       "\n",
       "    .dataframe tbody tr th {\n",
       "        vertical-align: top;\n",
       "    }\n",
       "\n",
       "    .dataframe thead th {\n",
       "        text-align: right;\n",
       "    }\n",
       "</style>\n",
       "<table border=\"1\" class=\"dataframe\">\n",
       "  <thead>\n",
       "    <tr style=\"text-align: right;\">\n",
       "      <th></th>\n",
       "      <th>Word1</th>\n",
       "      <th>Word2</th>\n",
       "      <th>POS</th>\n",
       "      <th>Sim1</th>\n",
       "      <th>Sim2</th>\n",
       "      <th>STD</th>\n",
       "    </tr>\n",
       "  </thead>\n",
       "  <tbody>\n",
       "    <tr>\n",
       "      <th>0</th>\n",
       "      <td>biến</td>\n",
       "      <td>ngập</td>\n",
       "      <td>V</td>\n",
       "      <td>3.13</td>\n",
       "      <td>5.22</td>\n",
       "      <td>0.72</td>\n",
       "    </tr>\n",
       "    <tr>\n",
       "      <th>1</th>\n",
       "      <td>nhà_thi_đấu</td>\n",
       "      <td>nhà</td>\n",
       "      <td>N</td>\n",
       "      <td>3.07</td>\n",
       "      <td>5.12</td>\n",
       "      <td>1.18</td>\n",
       "    </tr>\n",
       "    <tr>\n",
       "      <th>2</th>\n",
       "      <td>động</td>\n",
       "      <td>tĩnh</td>\n",
       "      <td>V</td>\n",
       "      <td>0.60</td>\n",
       "      <td>1.00</td>\n",
       "      <td>0.95</td>\n",
       "    </tr>\n",
       "    <tr>\n",
       "      <th>3</th>\n",
       "      <td>khuyết</td>\n",
       "      <td>ưu</td>\n",
       "      <td>N</td>\n",
       "      <td>0.20</td>\n",
       "      <td>0.33</td>\n",
       "      <td>0.40</td>\n",
       "    </tr>\n",
       "    <tr>\n",
       "      <th>4</th>\n",
       "      <td>cõi_tục</td>\n",
       "      <td>cõi_âm</td>\n",
       "      <td>N</td>\n",
       "      <td>0.60</td>\n",
       "      <td>1.00</td>\n",
       "      <td>0.95</td>\n",
       "    </tr>\n",
       "  </tbody>\n",
       "</table>\n",
       "</div>"
      ],
      "text/plain": [
       "         Word1   Word2 POS  Sim1  Sim2   STD\n",
       "0         biến    ngập   V  3.13  5.22  0.72\n",
       "1  nhà_thi_đấu     nhà   N  3.07  5.12  1.18\n",
       "2         động    tĩnh   V  0.60  1.00  0.95\n",
       "3       khuyết      ưu   N  0.20  0.33  0.40\n",
       "4      cõi_tục  cõi_âm   N  0.60  1.00  0.95"
      ]
     },
     "execution_count": 7,
     "metadata": {},
     "output_type": "execute_result"
    }
   ],
   "source": [
    "visim_df.head(5)"
   ]
  },
  {
   "cell_type": "markdown",
   "metadata": {},
   "source": [
    "## 1.2 Implement Function"
   ]
  },
  {
   "cell_type": "code",
   "execution_count": 8,
   "metadata": {},
   "outputs": [],
   "source": [
    "def f(x):\n",
    "    try:\n",
    "        w1_vec = emb_df.loc[x[0]].values\n",
    "        w2_vec = emb_df.loc[x[1]].values\n",
    "        sim = (2 - spatial.distance.cosine(w1_vec, w2_vec))/2\n",
    "        return sim\n",
    "    except:\n",
    "        return float('nan')\n",
    "\n",
    "visim_df['cosine_sim'] = visim_df.apply(lambda x: f(x), axis=1)\n",
    "visim_df = visim_df.dropna()"
   ]
  },
  {
   "cell_type": "code",
   "execution_count": 9,
   "metadata": {},
   "outputs": [
    {
     "data": {
      "text/html": [
       "<div>\n",
       "<style scoped>\n",
       "    .dataframe tbody tr th:only-of-type {\n",
       "        vertical-align: middle;\n",
       "    }\n",
       "\n",
       "    .dataframe tbody tr th {\n",
       "        vertical-align: top;\n",
       "    }\n",
       "\n",
       "    .dataframe thead th {\n",
       "        text-align: right;\n",
       "    }\n",
       "</style>\n",
       "<table border=\"1\" class=\"dataframe\">\n",
       "  <thead>\n",
       "    <tr style=\"text-align: right;\">\n",
       "      <th></th>\n",
       "      <th>Word1</th>\n",
       "      <th>Word2</th>\n",
       "      <th>POS</th>\n",
       "      <th>Sim1</th>\n",
       "      <th>Sim2</th>\n",
       "      <th>STD</th>\n",
       "      <th>cosine_sim</th>\n",
       "    </tr>\n",
       "  </thead>\n",
       "  <tbody>\n",
       "    <tr>\n",
       "      <th>0</th>\n",
       "      <td>biến</td>\n",
       "      <td>ngập</td>\n",
       "      <td>V</td>\n",
       "      <td>3.13</td>\n",
       "      <td>5.22</td>\n",
       "      <td>0.72</td>\n",
       "      <td>0.497544</td>\n",
       "    </tr>\n",
       "    <tr>\n",
       "      <th>1</th>\n",
       "      <td>nhà_thi_đấu</td>\n",
       "      <td>nhà</td>\n",
       "      <td>N</td>\n",
       "      <td>3.07</td>\n",
       "      <td>5.12</td>\n",
       "      <td>1.18</td>\n",
       "      <td>0.541262</td>\n",
       "    </tr>\n",
       "    <tr>\n",
       "      <th>2</th>\n",
       "      <td>động</td>\n",
       "      <td>tĩnh</td>\n",
       "      <td>V</td>\n",
       "      <td>0.60</td>\n",
       "      <td>1.00</td>\n",
       "      <td>0.95</td>\n",
       "      <td>0.638543</td>\n",
       "    </tr>\n",
       "    <tr>\n",
       "      <th>3</th>\n",
       "      <td>khuyết</td>\n",
       "      <td>ưu</td>\n",
       "      <td>N</td>\n",
       "      <td>0.20</td>\n",
       "      <td>0.33</td>\n",
       "      <td>0.40</td>\n",
       "      <td>0.588399</td>\n",
       "    </tr>\n",
       "    <tr>\n",
       "      <th>5</th>\n",
       "      <td>thủ_pháp</td>\n",
       "      <td>biện_pháp</td>\n",
       "      <td>N</td>\n",
       "      <td>4.13</td>\n",
       "      <td>6.88</td>\n",
       "      <td>1.26</td>\n",
       "      <td>0.701183</td>\n",
       "    </tr>\n",
       "  </tbody>\n",
       "</table>\n",
       "</div>"
      ],
      "text/plain": [
       "         Word1      Word2 POS  Sim1  Sim2   STD  cosine_sim\n",
       "0         biến       ngập   V  3.13  5.22  0.72    0.497544\n",
       "1  nhà_thi_đấu        nhà   N  3.07  5.12  1.18    0.541262\n",
       "2         động       tĩnh   V  0.60  1.00  0.95    0.638543\n",
       "3       khuyết         ưu   N  0.20  0.33  0.40    0.588399\n",
       "5     thủ_pháp  biện_pháp   N  4.13  6.88  1.26    0.701183"
      ]
     },
     "execution_count": 9,
     "metadata": {},
     "output_type": "execute_result"
    }
   ],
   "source": [
    "visim_df.head(5)"
   ]
  },
  {
   "cell_type": "markdown",
   "metadata": {},
   "source": [
    "## 1.3 Evaluation"
   ]
  },
  {
   "cell_type": "code",
   "execution_count": 10,
   "metadata": {},
   "outputs": [
    {
     "name": "stdout",
     "output_type": "stream",
     "text": [
      "Pearson correlation coefficient with sim 1: 0.44684779863919877\n",
      "Pearson correlation coefficient with sim 2: 0.4468197550880767\n"
     ]
    }
   ],
   "source": [
    "pcc_1 = stats.pearsonr(visim_df['Sim1'],visim_df['cosine_sim'])[0]\n",
    "pcc_2 = stats.pearsonr(visim_df['Sim2'],visim_df['cosine_sim'])[0]\n",
    "print(f\"Pearson correlation coefficient with sim 1: {pcc_1}\")\n",
    "print(f\"Pearson correlation coefficient with sim 2: {pcc_2}\")"
   ]
  },
  {
   "cell_type": "code",
   "execution_count": 11,
   "metadata": {},
   "outputs": [
    {
     "name": "stdout",
     "output_type": "stream",
     "text": [
      "Spearman's rank correlation coefficient with sim 1: 0.40775688877341687\n",
      "Spearman's rank correlation coefficient with sim 2: 0.40775688877341687\n"
     ]
    }
   ],
   "source": [
    "srcc_1 = stats.spearmanr(visim_df['Sim1'],visim_df['cosine_sim'])[0]\n",
    "srcc_2 = stats.spearmanr(visim_df['Sim2'],visim_df['cosine_sim'])[0]\n",
    "print(f\"Spearman's rank correlation coefficient with sim 1: {srcc_1}\")\n",
    "print(f\"Spearman's rank correlation coefficient with sim 2: {srcc_2}\")"
   ]
  },
  {
   "cell_type": "markdown",
   "metadata": {},
   "source": [
    "# 2. K-nearest words"
   ]
  },
  {
   "cell_type": "code",
   "execution_count": 12,
   "metadata": {},
   "outputs": [],
   "source": [
    "k = 5\n",
    "w = \"máy_vi_tính\""
   ]
  },
  {
   "cell_type": "code",
   "execution_count": 13,
   "metadata": {},
   "outputs": [
    {
     "data": {
      "text/plain": [
       "['máy_tính_xách_tay',\n",
       " 'máy_vi_tính_xách_tay',\n",
       " 'điện_thoại_di_động',\n",
       " 'máy_chữ',\n",
       " 'máy_đánh_chữ']"
      ]
     },
     "execution_count": 13,
     "metadata": {},
     "output_type": "execute_result"
    }
   ],
   "source": [
    "def get_k_nearest_words(word, n_k):\n",
    "    nbrs = NearestNeighbors(n_neighbors=k+1).fit(emb_df.loc[:].values)\n",
    "    idx = nbrs.kneighbors([emb_df.loc[w].values], return_distance=False)[0][1:].tolist()\n",
    "    k_words = emb_df.index[idx].tolist()\n",
    "    return k_words\n",
    "get_k_nearest_words(k, w)"
   ]
  },
  {
   "cell_type": "markdown",
   "metadata": {},
   "source": [
    "# 3. Synonym-antonym classification"
   ]
  },
  {
   "cell_type": "markdown",
   "metadata": {},
   "source": [
    "## 3.1 Load & Preprocessing Data"
   ]
  },
  {
   "cell_type": "code",
   "execution_count": 203,
   "metadata": {},
   "outputs": [],
   "source": [
    "ant_df = pd.read_csv('../../ex1/Word-Similarity/antonym-synonym set/Antonym_vietnamese.txt', names=['w1', 'w2'], sep=' ')\n",
    "syn_df = pd.read_csv('../../ex1/Word-Similarity/antonym-synonym set/Synonym_vietnamese.txt', names=['w1', 'w2'], sep=' ')\n",
    "noun_df = pd.read_csv('../../ex1/Word-Similarity/datasets/ViCon-400/400_noun_pairs.txt', sep='\\t')\n",
    "verb_df = pd.read_csv('../../ex1/Word-Similarity/datasets/ViCon-400/400_verb_pairs.txt', sep='\\t')\n",
    "adj_df = pd.read_csv('../../ex1/Word-Similarity/datasets/ViCon-400/600_adj_pairs.txt', sep='\\t')"
   ]
  },
  {
   "cell_type": "code",
   "execution_count": 204,
   "metadata": {},
   "outputs": [],
   "source": [
    "test_df = pd.concat([noun_df, verb_df, adj_df], ignore_index=True)"
   ]
  },
  {
   "cell_type": "code",
   "execution_count": 205,
   "metadata": {},
   "outputs": [],
   "source": [
    "test_df['label'] = test_df['Relation'].apply(lambda x: 1 if x == 'SYN' else 0)"
   ]
  },
  {
   "cell_type": "code",
   "execution_count": 206,
   "metadata": {},
   "outputs": [
    {
     "data": {
      "text/html": [
       "<div>\n",
       "<style scoped>\n",
       "    .dataframe tbody tr th:only-of-type {\n",
       "        vertical-align: middle;\n",
       "    }\n",
       "\n",
       "    .dataframe tbody tr th {\n",
       "        vertical-align: top;\n",
       "    }\n",
       "\n",
       "    .dataframe thead th {\n",
       "        text-align: right;\n",
       "    }\n",
       "</style>\n",
       "<table border=\"1\" class=\"dataframe\">\n",
       "  <thead>\n",
       "    <tr style=\"text-align: right;\">\n",
       "      <th></th>\n",
       "      <th>Word1</th>\n",
       "      <th>Word2</th>\n",
       "      <th>Relation</th>\n",
       "      <th>label</th>\n",
       "    </tr>\n",
       "  </thead>\n",
       "  <tbody>\n",
       "    <tr>\n",
       "      <th>0</th>\n",
       "      <td>khoái_lạc</td>\n",
       "      <td>nỗi_đau</td>\n",
       "      <td>ANT</td>\n",
       "      <td>0</td>\n",
       "    </tr>\n",
       "    <tr>\n",
       "      <th>1</th>\n",
       "      <td>yếu_kém</td>\n",
       "      <td>sức_mạnh</td>\n",
       "      <td>ANT</td>\n",
       "      <td>0</td>\n",
       "    </tr>\n",
       "    <tr>\n",
       "      <th>2</th>\n",
       "      <td>thanh_danh</td>\n",
       "      <td>ô_nhục</td>\n",
       "      <td>ANT</td>\n",
       "      <td>0</td>\n",
       "    </tr>\n",
       "    <tr>\n",
       "      <th>3</th>\n",
       "      <td>dây</td>\n",
       "      <td>dọc</td>\n",
       "      <td>SYN</td>\n",
       "      <td>1</td>\n",
       "    </tr>\n",
       "    <tr>\n",
       "      <th>4</th>\n",
       "      <td>bằng_cớ</td>\n",
       "      <td>chứng_cớ</td>\n",
       "      <td>SYN</td>\n",
       "      <td>1</td>\n",
       "    </tr>\n",
       "  </tbody>\n",
       "</table>\n",
       "</div>"
      ],
      "text/plain": [
       "        Word1     Word2 Relation  label\n",
       "0   khoái_lạc   nỗi_đau      ANT      0\n",
       "1     yếu_kém  sức_mạnh      ANT      0\n",
       "2  thanh_danh    ô_nhục      ANT      0\n",
       "3         dây       dọc      SYN      1\n",
       "4     bằng_cớ  chứng_cớ      SYN      1"
      ]
     },
     "execution_count": 206,
     "metadata": {},
     "output_type": "execute_result"
    }
   ],
   "source": [
    "test_df.head(5)"
   ]
  },
  {
   "cell_type": "code",
   "execution_count": 207,
   "metadata": {},
   "outputs": [],
   "source": [
    "ant_df['label'] = 0 # => antonym is label 0\n",
    "syn_df['label'] = 1 # => synonym is label 1"
   ]
  },
  {
   "cell_type": "code",
   "execution_count": 208,
   "metadata": {},
   "outputs": [
    {
     "data": {
      "text/html": [
       "<div>\n",
       "<style scoped>\n",
       "    .dataframe tbody tr th:only-of-type {\n",
       "        vertical-align: middle;\n",
       "    }\n",
       "\n",
       "    .dataframe tbody tr th {\n",
       "        vertical-align: top;\n",
       "    }\n",
       "\n",
       "    .dataframe thead th {\n",
       "        text-align: right;\n",
       "    }\n",
       "</style>\n",
       "<table border=\"1\" class=\"dataframe\">\n",
       "  <thead>\n",
       "    <tr style=\"text-align: right;\">\n",
       "      <th></th>\n",
       "      <th>w1</th>\n",
       "      <th>w2</th>\n",
       "      <th>label</th>\n",
       "    </tr>\n",
       "  </thead>\n",
       "  <tbody>\n",
       "    <tr>\n",
       "      <th>0</th>\n",
       "      <td>ác</td>\n",
       "      <td>hiền</td>\n",
       "      <td>0</td>\n",
       "    </tr>\n",
       "    <tr>\n",
       "      <th>1</th>\n",
       "      <td>ác</td>\n",
       "      <td>thiện</td>\n",
       "      <td>0</td>\n",
       "    </tr>\n",
       "    <tr>\n",
       "      <th>2</th>\n",
       "      <td>ác_cảm</td>\n",
       "      <td>thiện_cảm</td>\n",
       "      <td>0</td>\n",
       "    </tr>\n",
       "    <tr>\n",
       "      <th>3</th>\n",
       "      <td>ác_độc</td>\n",
       "      <td>hiền_lành</td>\n",
       "      <td>0</td>\n",
       "    </tr>\n",
       "    <tr>\n",
       "      <th>4</th>\n",
       "      <td>ác_độc</td>\n",
       "      <td>hiền_từ</td>\n",
       "      <td>0</td>\n",
       "    </tr>\n",
       "  </tbody>\n",
       "</table>\n",
       "</div>"
      ],
      "text/plain": [
       "       w1         w2  label\n",
       "0      ác       hiền      0\n",
       "1      ác      thiện      0\n",
       "2  ác_cảm  thiện_cảm      0\n",
       "3  ác_độc  hiền_lành      0\n",
       "4  ác_độc    hiền_từ      0"
      ]
     },
     "execution_count": 208,
     "metadata": {},
     "output_type": "execute_result"
    }
   ],
   "source": [
    "ant_df.head(5)"
   ]
  },
  {
   "cell_type": "code",
   "execution_count": 209,
   "metadata": {},
   "outputs": [
    {
     "data": {
      "text/html": [
       "<div>\n",
       "<style scoped>\n",
       "    .dataframe tbody tr th:only-of-type {\n",
       "        vertical-align: middle;\n",
       "    }\n",
       "\n",
       "    .dataframe tbody tr th {\n",
       "        vertical-align: top;\n",
       "    }\n",
       "\n",
       "    .dataframe thead th {\n",
       "        text-align: right;\n",
       "    }\n",
       "</style>\n",
       "<table border=\"1\" class=\"dataframe\">\n",
       "  <thead>\n",
       "    <tr style=\"text-align: right;\">\n",
       "      <th></th>\n",
       "      <th>w1</th>\n",
       "      <th>w2</th>\n",
       "      <th>label</th>\n",
       "    </tr>\n",
       "  </thead>\n",
       "  <tbody>\n",
       "    <tr>\n",
       "      <th>0</th>\n",
       "      <td>a_dua</td>\n",
       "      <td>a_tòng</td>\n",
       "      <td>1</td>\n",
       "    </tr>\n",
       "    <tr>\n",
       "      <th>1</th>\n",
       "      <td>a_dua</td>\n",
       "      <td>vào_hùa</td>\n",
       "      <td>1</td>\n",
       "    </tr>\n",
       "    <tr>\n",
       "      <th>2</th>\n",
       "      <td>a_ma_tơ</td>\n",
       "      <td>tài_tử</td>\n",
       "      <td>1</td>\n",
       "    </tr>\n",
       "    <tr>\n",
       "      <th>3</th>\n",
       "      <td>a_tòng</td>\n",
       "      <td>vào_hùa</td>\n",
       "      <td>1</td>\n",
       "    </tr>\n",
       "    <tr>\n",
       "      <th>4</th>\n",
       "      <td>à_ơi</td>\n",
       "      <td>ạ_ơi</td>\n",
       "      <td>1</td>\n",
       "    </tr>\n",
       "  </tbody>\n",
       "</table>\n",
       "</div>"
      ],
      "text/plain": [
       "        w1       w2  label\n",
       "0    a_dua   a_tòng      1\n",
       "1    a_dua  vào_hùa      1\n",
       "2  a_ma_tơ   tài_tử      1\n",
       "3   a_tòng  vào_hùa      1\n",
       "4     à_ơi     ạ_ơi      1"
      ]
     },
     "execution_count": 209,
     "metadata": {},
     "output_type": "execute_result"
    }
   ],
   "source": [
    "syn_df.head(5)"
   ]
  },
  {
   "cell_type": "code",
   "execution_count": 210,
   "metadata": {},
   "outputs": [],
   "source": [
    "#Generate training data\n",
    "train_df = pd.concat([ant_df, syn_df], ignore_index=True)"
   ]
  },
  {
   "cell_type": "code",
   "execution_count": 211,
   "metadata": {},
   "outputs": [
    {
     "data": {
      "text/html": [
       "<div>\n",
       "<style scoped>\n",
       "    .dataframe tbody tr th:only-of-type {\n",
       "        vertical-align: middle;\n",
       "    }\n",
       "\n",
       "    .dataframe tbody tr th {\n",
       "        vertical-align: top;\n",
       "    }\n",
       "\n",
       "    .dataframe thead th {\n",
       "        text-align: right;\n",
       "    }\n",
       "</style>\n",
       "<table border=\"1\" class=\"dataframe\">\n",
       "  <thead>\n",
       "    <tr style=\"text-align: right;\">\n",
       "      <th></th>\n",
       "      <th>w1</th>\n",
       "      <th>w2</th>\n",
       "      <th>label</th>\n",
       "    </tr>\n",
       "  </thead>\n",
       "  <tbody>\n",
       "    <tr>\n",
       "      <th>0</th>\n",
       "      <td>ác</td>\n",
       "      <td>hiền</td>\n",
       "      <td>0</td>\n",
       "    </tr>\n",
       "    <tr>\n",
       "      <th>1</th>\n",
       "      <td>ác</td>\n",
       "      <td>thiện</td>\n",
       "      <td>0</td>\n",
       "    </tr>\n",
       "    <tr>\n",
       "      <th>2</th>\n",
       "      <td>ác_cảm</td>\n",
       "      <td>thiện_cảm</td>\n",
       "      <td>0</td>\n",
       "    </tr>\n",
       "    <tr>\n",
       "      <th>3</th>\n",
       "      <td>ác_độc</td>\n",
       "      <td>hiền_lành</td>\n",
       "      <td>0</td>\n",
       "    </tr>\n",
       "    <tr>\n",
       "      <th>4</th>\n",
       "      <td>ác_độc</td>\n",
       "      <td>hiền_từ</td>\n",
       "      <td>0</td>\n",
       "    </tr>\n",
       "  </tbody>\n",
       "</table>\n",
       "</div>"
      ],
      "text/plain": [
       "       w1         w2  label\n",
       "0      ác       hiền      0\n",
       "1      ác      thiện      0\n",
       "2  ác_cảm  thiện_cảm      0\n",
       "3  ác_độc  hiền_lành      0\n",
       "4  ác_độc    hiền_từ      0"
      ]
     },
     "execution_count": 211,
     "metadata": {},
     "output_type": "execute_result"
    }
   ],
   "source": [
    "train_df.head(5)"
   ]
  },
  {
   "cell_type": "code",
   "execution_count": 212,
   "metadata": {},
   "outputs": [
    {
     "data": {
      "text/plain": [
       "(13562, 3)"
      ]
     },
     "execution_count": 212,
     "metadata": {},
     "output_type": "execute_result"
    }
   ],
   "source": [
    "train_df.shape"
   ]
  },
  {
   "cell_type": "code",
   "execution_count": 213,
   "metadata": {},
   "outputs": [
    {
     "data": {
      "text/plain": [
       "(1400, 4)"
      ]
     },
     "execution_count": 213,
     "metadata": {},
     "output_type": "execute_result"
    }
   ],
   "source": [
    "test_df.shape"
   ]
  },
  {
   "cell_type": "code",
   "execution_count": 214,
   "metadata": {},
   "outputs": [
    {
     "data": {
      "text/plain": [
       "<matplotlib.axes._subplots.AxesSubplot at 0x7f55a133ccd0>"
      ]
     },
     "execution_count": 214,
     "metadata": {},
     "output_type": "execute_result"
    },
    {
     "data": {
      "image/png": "[encoded data removed]",
      "text/plain": [
       "<Figure size 432x288 with 1 Axes>"
      ]
     },
     "metadata": {
      "needs_background": "light"
     },
     "output_type": "display_data"
    }
   ],
   "source": [
    "sns.countplot(train_df['label'])"
   ]
  },
  {
   "cell_type": "code",
   "execution_count": 215,
   "metadata": {},
   "outputs": [
    {
     "data": {
      "text/plain": [
       "<matplotlib.axes._subplots.AxesSubplot at 0x7f55a1303710>"
      ]
     },
     "execution_count": 215,
     "metadata": {},
     "output_type": "execute_result"
    },
    {
     "data": {
      "image/png": "[encoded data removed]",
      "text/plain": [
       "<Figure size 432x288 with 1 Axes>"
      ]
     },
     "metadata": {
      "needs_background": "light"
     },
     "output_type": "display_data"
    }
   ],
   "source": [
    "sns.countplot(test_df['label'])"
   ]
  },
  {
   "cell_type": "markdown",
   "metadata": {},
   "source": [
    "## Handle Imbalance Data"
   ]
  },
  {
   "cell_type": "code",
   "execution_count": 216,
   "metadata": {},
   "outputs": [],
   "source": [
    "drop_indices = np.random.choice(train_df[train_df['label']==1].index, 8000, replace=False)\n",
    "train_df = train_df.drop(drop_indices)"
   ]
  },
  {
   "cell_type": "code",
   "execution_count": 217,
   "metadata": {},
   "outputs": [
    {
     "data": {
      "text/plain": [
       "<matplotlib.axes._subplots.AxesSubplot at 0x7f55a12f3910>"
      ]
     },
     "execution_count": 217,
     "metadata": {},
     "output_type": "execute_result"
    },
    {
     "data": {
      "image/png": "[encoded data removed]",
      "text/plain": [
       "<Figure size 432x288 with 1 Axes>"
      ]
     },
     "metadata": {
      "needs_background": "light"
     },
     "output_type": "display_data"
    }
   ],
   "source": [
    "sns.countplot(train_df['label'])"
   ]
  },
  {
   "cell_type": "markdown",
   "metadata": {},
   "source": [
    "## 3.2 Feature Engineering"
   ]
  },
  {
   "cell_type": "markdown",
   "metadata": {},
   "source": [
    "### Load Embedding "
   ]
  },
  {
   "cell_type": "code",
   "execution_count": 218,
   "metadata": {},
   "outputs": [],
   "source": [
    "EMBEDDING_NAME = 'w2v_150'"
   ]
  },
  {
   "cell_type": "code",
   "execution_count": 219,
   "metadata": {},
   "outputs": [],
   "source": [
    "if EMBEDDING_NAME == 'w2v_150':\n",
    "    model = emb_df\n",
    "elif EMBEDDING_NAME == 'w2v_wiki_400': \n",
    "    model = gensim.models.KeyedVectors.load_word2vec_format('../../ex1/Word-Similarity/word2vec/wiki.vi.model.bin', binary=True)"
   ]
  },
  {
   "cell_type": "markdown",
   "metadata": {},
   "source": [
    "### Feature Extraction"
   ]
  },
  {
   "cell_type": "code",
   "execution_count": 220,
   "metadata": {},
   "outputs": [],
   "source": [
    "def f(x):\n",
    "    try:\n",
    "        if EMBEDDING_NAME == 'w2v_150': \n",
    "            w1_vec = model.loc[x[0]].to_numpy()\n",
    "            w2_vec = model.loc[x[1]].to_numpy()\n",
    "        elif EMBEDDING_NAME == 'w2v_wiki_400':\n",
    "            w1_vec = model[x[0]]\n",
    "            w2_vec = model[x[1]]\n",
    "        sim = spatial.distance.cosine(w1_vec, w2_vec)\n",
    "        return sim\n",
    "    except:\n",
    "        return float('nan')\n",
    "\n",
    "train_df['cosine_sim'] = train_df.apply(lambda x: f(x), axis=1)\n",
    "test_df['cosine_sim'] = test_df.apply(lambda x: f(x), axis=1)"
   ]
  },
  {
   "cell_type": "code",
   "execution_count": 221,
   "metadata": {},
   "outputs": [],
   "source": [
    "def f(x):\n",
    "    try:\n",
    "        if EMBEDDING_NAME == 'w2v_150': \n",
    "            w1_vec = model.loc[x[0]].to_numpy()\n",
    "            w2_vec = model.loc[x[1]].to_numpy()\n",
    "        elif EMBEDDING_NAME == 'w2v_wiki_400':\n",
    "            w1_vec = model[x[0]]\n",
    "            w2_vec = model[x[1]]\n",
    "        sim = spatial.distance.euclidean(w1_vec, w2_vec)\n",
    "        return sim\n",
    "    except:\n",
    "        return float('nan')\n",
    "\n",
    "train_df['euclide_sim'] = train_df.apply(lambda x: f(x), axis=1)\n",
    "test_df['euclide_sim'] = test_df.apply(lambda x: f(x), axis=1)"
   ]
  },
  {
   "cell_type": "code",
   "execution_count": 222,
   "metadata": {},
   "outputs": [],
   "source": [
    "def f(x):\n",
    "    try:\n",
    "        if EMBEDDING_NAME == 'w2v_150': \n",
    "            w1_vec = model.loc[x[0]].to_numpy()\n",
    "            w2_vec = model.loc[x[1]].to_numpy()\n",
    "        elif EMBEDDING_NAME == 'w2v_wiki_400':\n",
    "            w1_vec = model[x[0]]\n",
    "            w2_vec = model[x[1]]\n",
    "        sim = stats.pearsonr(w1_vec, w2_vec)[0]\n",
    "        return sim\n",
    "    except:\n",
    "        return float('nan')\n",
    "\n",
    "train_df['pcc'] = train_df.apply(lambda x: f(x), axis=1)\n",
    "test_df['pcc'] = test_df.apply(lambda x: f(x), axis=1)"
   ]
  },
  {
   "cell_type": "code",
   "execution_count": 223,
   "metadata": {},
   "outputs": [
    {
     "data": {
      "text/plain": [
       "w1                0\n",
       "w2                1\n",
       "label             0\n",
       "cosine_sim     1888\n",
       "euclide_sim    1888\n",
       "pcc            1888\n",
       "dtype: int64"
      ]
     },
     "execution_count": 223,
     "metadata": {},
     "output_type": "execute_result"
    }
   ],
   "source": [
    "train_df.isna().sum()"
   ]
  },
  {
   "cell_type": "code",
   "execution_count": 224,
   "metadata": {},
   "outputs": [
    {
     "data": {
      "text/plain": [
       "Word1            0\n",
       "Word2            0\n",
       "Relation         0\n",
       "label            0\n",
       "cosine_sim     227\n",
       "euclide_sim    227\n",
       "pcc            227\n",
       "dtype: int64"
      ]
     },
     "execution_count": 224,
     "metadata": {},
     "output_type": "execute_result"
    }
   ],
   "source": [
    "test_df.isna().sum()"
   ]
  },
  {
   "cell_type": "code",
   "execution_count": 225,
   "metadata": {},
   "outputs": [],
   "source": [
    "train_df = train_df.dropna()\n",
    "test_df = test_df.dropna()"
   ]
  },
  {
   "cell_type": "code",
   "execution_count": 226,
   "metadata": {},
   "outputs": [
    {
     "data": {
      "text/html": [
       "<div>\n",
       "<style scoped>\n",
       "    .dataframe tbody tr th:only-of-type {\n",
       "        vertical-align: middle;\n",
       "    }\n",
       "\n",
       "    .dataframe tbody tr th {\n",
       "        vertical-align: top;\n",
       "    }\n",
       "\n",
       "    .dataframe thead th {\n",
       "        text-align: right;\n",
       "    }\n",
       "</style>\n",
       "<table border=\"1\" class=\"dataframe\">\n",
       "  <thead>\n",
       "    <tr style=\"text-align: right;\">\n",
       "      <th></th>\n",
       "      <th>w1</th>\n",
       "      <th>w2</th>\n",
       "      <th>label</th>\n",
       "      <th>cosine_sim</th>\n",
       "      <th>euclide_sim</th>\n",
       "      <th>pcc</th>\n",
       "    </tr>\n",
       "  </thead>\n",
       "  <tbody>\n",
       "    <tr>\n",
       "      <th>0</th>\n",
       "      <td>ác</td>\n",
       "      <td>hiền</td>\n",
       "      <td>0</td>\n",
       "      <td>0.818903</td>\n",
       "      <td>16.777955</td>\n",
       "      <td>0.172329</td>\n",
       "    </tr>\n",
       "    <tr>\n",
       "      <th>1</th>\n",
       "      <td>ác</td>\n",
       "      <td>thiện</td>\n",
       "      <td>0</td>\n",
       "      <td>0.791902</td>\n",
       "      <td>17.690477</td>\n",
       "      <td>0.175360</td>\n",
       "    </tr>\n",
       "    <tr>\n",
       "      <th>2</th>\n",
       "      <td>ác_cảm</td>\n",
       "      <td>thiện_cảm</td>\n",
       "      <td>0</td>\n",
       "      <td>0.409032</td>\n",
       "      <td>18.295017</td>\n",
       "      <td>0.594726</td>\n",
       "    </tr>\n",
       "    <tr>\n",
       "      <th>3</th>\n",
       "      <td>ác_độc</td>\n",
       "      <td>hiền_lành</td>\n",
       "      <td>0</td>\n",
       "      <td>0.590656</td>\n",
       "      <td>14.668525</td>\n",
       "      <td>0.406149</td>\n",
       "    </tr>\n",
       "    <tr>\n",
       "      <th>4</th>\n",
       "      <td>ác_độc</td>\n",
       "      <td>hiền_từ</td>\n",
       "      <td>0</td>\n",
       "      <td>0.775007</td>\n",
       "      <td>14.011500</td>\n",
       "      <td>0.218937</td>\n",
       "    </tr>\n",
       "  </tbody>\n",
       "</table>\n",
       "</div>"
      ],
      "text/plain": [
       "       w1         w2  label  cosine_sim  euclide_sim       pcc\n",
       "0      ác       hiền      0    0.818903    16.777955  0.172329\n",
       "1      ác      thiện      0    0.791902    17.690477  0.175360\n",
       "2  ác_cảm  thiện_cảm      0    0.409032    18.295017  0.594726\n",
       "3  ác_độc  hiền_lành      0    0.590656    14.668525  0.406149\n",
       "4  ác_độc    hiền_từ      0    0.775007    14.011500  0.218937"
      ]
     },
     "execution_count": 226,
     "metadata": {},
     "output_type": "execute_result"
    }
   ],
   "source": [
    "train_df.head(5)"
   ]
  },
  {
   "cell_type": "code",
   "execution_count": 227,
   "metadata": {},
   "outputs": [
    {
     "data": {
      "text/html": [
       "<div>\n",
       "<style scoped>\n",
       "    .dataframe tbody tr th:only-of-type {\n",
       "        vertical-align: middle;\n",
       "    }\n",
       "\n",
       "    .dataframe tbody tr th {\n",
       "        vertical-align: top;\n",
       "    }\n",
       "\n",
       "    .dataframe thead th {\n",
       "        text-align: right;\n",
       "    }\n",
       "</style>\n",
       "<table border=\"1\" class=\"dataframe\">\n",
       "  <thead>\n",
       "    <tr style=\"text-align: right;\">\n",
       "      <th></th>\n",
       "      <th>Word1</th>\n",
       "      <th>Word2</th>\n",
       "      <th>Relation</th>\n",
       "      <th>label</th>\n",
       "      <th>cosine_sim</th>\n",
       "      <th>euclide_sim</th>\n",
       "      <th>pcc</th>\n",
       "    </tr>\n",
       "  </thead>\n",
       "  <tbody>\n",
       "    <tr>\n",
       "      <th>0</th>\n",
       "      <td>khoái_lạc</td>\n",
       "      <td>nỗi_đau</td>\n",
       "      <td>ANT</td>\n",
       "      <td>0</td>\n",
       "      <td>0.754234</td>\n",
       "      <td>16.834577</td>\n",
       "      <td>0.249734</td>\n",
       "    </tr>\n",
       "    <tr>\n",
       "      <th>1</th>\n",
       "      <td>yếu_kém</td>\n",
       "      <td>sức_mạnh</td>\n",
       "      <td>ANT</td>\n",
       "      <td>0</td>\n",
       "      <td>0.828628</td>\n",
       "      <td>18.374029</td>\n",
       "      <td>0.171366</td>\n",
       "    </tr>\n",
       "    <tr>\n",
       "      <th>2</th>\n",
       "      <td>thanh_danh</td>\n",
       "      <td>ô_nhục</td>\n",
       "      <td>ANT</td>\n",
       "      <td>0</td>\n",
       "      <td>0.911014</td>\n",
       "      <td>16.266694</td>\n",
       "      <td>0.088963</td>\n",
       "    </tr>\n",
       "    <tr>\n",
       "      <th>3</th>\n",
       "      <td>dây</td>\n",
       "      <td>dọc</td>\n",
       "      <td>SYN</td>\n",
       "      <td>1</td>\n",
       "      <td>0.858338</td>\n",
       "      <td>16.180636</td>\n",
       "      <td>0.150397</td>\n",
       "    </tr>\n",
       "    <tr>\n",
       "      <th>5</th>\n",
       "      <td>ba</td>\n",
       "      <td>me</td>\n",
       "      <td>ANT</td>\n",
       "      <td>0</td>\n",
       "      <td>1.048281</td>\n",
       "      <td>15.954571</td>\n",
       "      <td>-0.048827</td>\n",
       "    </tr>\n",
       "  </tbody>\n",
       "</table>\n",
       "</div>"
      ],
      "text/plain": [
       "        Word1     Word2 Relation  label  cosine_sim  euclide_sim       pcc\n",
       "0   khoái_lạc   nỗi_đau      ANT      0    0.754234    16.834577  0.249734\n",
       "1     yếu_kém  sức_mạnh      ANT      0    0.828628    18.374029  0.171366\n",
       "2  thanh_danh    ô_nhục      ANT      0    0.911014    16.266694  0.088963\n",
       "3         dây       dọc      SYN      1    0.858338    16.180636  0.150397\n",
       "5          ba        me      ANT      0    1.048281    15.954571 -0.048827"
      ]
     },
     "execution_count": 227,
     "metadata": {},
     "output_type": "execute_result"
    }
   ],
   "source": [
    "test_df.head(5)"
   ]
  },
  {
   "cell_type": "markdown",
   "metadata": {},
   "source": [
    "## 3.3 Learning"
   ]
  },
  {
   "cell_type": "markdown",
   "metadata": {},
   "source": [
    "### Training"
   ]
  },
  {
   "cell_type": "code",
   "execution_count": 228,
   "metadata": {},
   "outputs": [],
   "source": [
    "features = ['cosine_sim', 'euclide_sim']"
   ]
  },
  {
   "cell_type": "code",
   "execution_count": 229,
   "metadata": {},
   "outputs": [],
   "source": [
    "clf = LogisticRegression(random_state=0).fit(train_df[features].values, train_df['label'].values)"
   ]
  },
  {
   "cell_type": "markdown",
   "metadata": {},
   "source": [
    "### Predict"
   ]
  },
  {
   "cell_type": "code",
   "execution_count": 230,
   "metadata": {},
   "outputs": [],
   "source": [
    "test_df['prediction'] = clf.predict(test_df[features].values)"
   ]
  },
  {
   "cell_type": "markdown",
   "metadata": {},
   "source": [
    "## 3.4 Evaluation"
   ]
  },
  {
   "cell_type": "code",
   "execution_count": 231,
   "metadata": {},
   "outputs": [
    {
     "name": "stdout",
     "output_type": "stream",
     "text": [
      "              precision    recall  f1-score   support\n",
      "\n",
      "           0       0.70      0.63      0.66       639\n",
      "           1       0.60      0.67      0.63       534\n",
      "\n",
      "    accuracy                           0.65      1173\n",
      "   macro avg       0.65      0.65      0.65      1173\n",
      "weighted avg       0.65      0.65      0.65      1173\n",
      "\n"
     ]
    }
   ],
   "source": [
    "print(classification_report(test_df['label'].values, test_df['prediction'].values))"
   ]
  },
  {
   "cell_type": "code",
   "execution_count": 232,
   "metadata": {},
   "outputs": [
    {
     "name": "stdout",
     "output_type": "stream",
     "text": [
      "[[402 237]\n",
      " [176 358]]\n"
     ]
    }
   ],
   "source": [
    "print(confusion_matrix(test_df['label'].values, test_df['prediction'].values))"
   ]
  },
  {
   "cell_type": "code",
   "execution_count": 234,
   "metadata": {},
   "outputs": [
    {
     "data": {
      "text/plain": [
       "0.6341895482728077"
      ]
     },
     "execution_count": 234,
     "metadata": {},
     "output_type": "execute_result"
    }
   ],
   "source": [
    "f1_score(test_df['label'].values, test_df['prediction'].values)"
   ]
  },
  {
   "cell_type": "code",
   "execution_count": null,
   "metadata": {},
   "outputs": [],
   "source": []
  }
 ],
 "metadata": {
  "celltoolbar": "Raw Cell Format",
  "kernelspec": {
   "display_name": "ai",
   "language": "python",
   "name": "ai"
  },
  "language_info": {
   "codemirror_mode": {
    "name": "ipython",
    "version": 3
   },
   "file_extension": ".py",
   "mimetype": "text/x-python",
   "name": "python",
   "nbconvert_exporter": "python",
   "pygments_lexer": "ipython3",
   "version": "3.7.7"
  }
 },
 "nbformat": 4,
 "nbformat_minor": 1
}
